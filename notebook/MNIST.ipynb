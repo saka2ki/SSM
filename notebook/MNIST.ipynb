{
 "cells": [
  {
   "cell_type": "code",
   "execution_count": 1,
   "id": "ea01f743-b8f1-4828-93e3-f2378b7a7066",
   "metadata": {},
   "outputs": [],
   "source": [
    "from torchvision import datasets, transforms\n",
    "from torch.utils.data import DataLoader\n",
    "import numpy as np\n",
    "\n",
    "class totensor:\n",
    "  def __call__(self, pic):\n",
    "    return torch.from_numpy(np.array(pic)).to(torch.long)\n",
    "# データ変換の定義\n",
    "transform = transforms.Compose([\n",
    "    #transforms.ToTensor(), # PIL ImageをTensorに変換 (0-1に正規化される)\n",
    "    #transforms.Normalize((0.1307,), (0.3081,)) # MNISTの平均と標準偏差で正規化\n",
    "    totensor()\n",
    "])\n",
    "\n",
    "# MNISTデータセットのダウンロード\n",
    "train_dataset = datasets.MNIST(root='../data', train=True, download=True, transform=transform)\n",
    "test_dataset = datasets.MNIST(root='../data', train=False, download=True, transform=transform)\n",
    "\n",
    "# データローダーの定義\n",
    "batch_size = 1\n",
    "train_loader = DataLoader(train_dataset, batch_size=batch_size, shuffle=True)\n",
    "test_loader = DataLoader(test_dataset, batch_size=batch_size, shuffle=False)"
   ]
  },
  {
   "cell_type": "code",
   "execution_count": 2,
   "id": "dc1016b6-a84d-4798-9008-abbaac032ff4",
   "metadata": {},
   "outputs": [
    {
     "name": "stdout",
     "output_type": "stream",
     "text": [
      "torch.Size([28, 28]) tensor(9) tensor([  0,   0,   0,   0,   0,   0,   0,   0,   0, 157, 253, 253, 253, 253,\n",
      "        217, 238, 253, 190,   0,   0,   0,   0,   0,   0,   0,   0,   0,   0])\n"
     ]
    },
    {
     "data": {
      "image/png": "[encoded data removed]",
      "text/plain": [
       "<Figure size 640x480 with 1 Axes>"
      ]
     },
     "metadata": {},
     "output_type": "display_data"
    }
   ],
   "source": [
    "import torch\n",
    "import matplotlib.pyplot as plt\n",
    "for epoch, labels in train_loader:\n",
    "  for batch,label in zip(epoch, labels):\n",
    "    print(batch.shape, label, batch[14])\n",
    "    plt.imshow(batch.squeeze(), cmap='gray')\n",
    "    plt.title(label)\n",
    "    break\n",
    "  break"
   ]
  },
  {
   "cell_type": "code",
   "execution_count": null,
   "id": "c293a46a-53d0-4c7d-b69b-a5c453964fc7",
   "metadata": {},
   "outputs": [],
   "source": [
    "import torch.optim as optim\n",
    "from tqdm.notebook import tqdm\n",
    "from TransformerModel import TransformerModel\n",
    "\n",
    "seq_len = 28*28  # シーケンスの長さ\n",
    "vocab_size = 256\n",
    "dim = 128     # 特徴量の次元\n",
    "div = 128\n",
    "N = 64\n",
    "layer = 6\n",
    "learning_rate = 0.001\n",
    "epochs = 1    # 短いエポック数で動作確認\n",
    "device = 'cuda'\n",
    "is_emb, is_ssm, is_ffn = True, True, False\n",
    "\n",
    "# 1. モデルのインスタンス化\n",
    "model = Module(vocab_size=vocab_size, dim=dim, N=N, div=div, layer=layer).to(device)\n",
    "#model = TransformerModel(vocab_size, seq_len, dim, layer).to(device)\n",
    "model.load_state_dict(torch.load('../module/StateSpaceModel_128.pth'))\n",
    "\n",
    "idx_in = 400\n",
    "idx_out = 0\n",
    "model.eval()\n",
    "with torch.no_grad():\n",
    "    for test, labels in tqdm(test_loader):\n",
    "        # 順伝播\n",
    "        #print(batch.shape)\n",
    "        test = test.view(test.shape[0], -1).to(device)\n",
    "        print(f'test:{test[:,:idx_in].shape}')\n",
    "        output = model(test[:,:idx_in], cnn=False, is_emb=is_emb, is_ssm=is_ssm, is_ffn=is_ffn)\n",
    "        print(f'output:{output.shape}')\n",
    "        rnn = [output[:,-1][:, None]]\n",
    "        for _ in range(783 - idx_in):\n",
    "            #print(f'rnn:{rnn[-1].shape}')\n",
    "            out = model(torch.argmax(rnn[-1], dim=-1), cnn=False, is_emb=is_emb, is_ssm=is_ssm, is_ffn=is_ffn)\n",
    "            #print(f'out:{out[:,-1,:].shape}')\n",
    "            rnn.append(out[:,-1,:].unsqueeze(1))\n",
    "        #print(len(rnn))\n",
    "        rnn = torch.cat(rnn, dim=1)\n",
    "        print(f'cat:{rnn.shape}')\n",
    "        output = torch.cat([output, rnn[:, 1:, :]], dim=1)\n",
    "        print(f'output:{output.shape}')\n",
    "        img = torch.cat([test[:,:idx_out+1], torch.argmax(output[:,idx_out:], dim=-1)], dim=1).to('cpu')\n",
    "        print(img.shape)\n",
    "        img = img.reshape(batch_size, 28, 28)\n",
    "        #print(img[0].shape)\n",
    "        plt.imshow(img[0].detach().numpy(), cmap='gray')\n",
    "        break"
   ]
  },
  {
   "cell_type": "code",
   "execution_count": null,
   "id": "b83878ac-cb67-44df-b707-4b6d15bd5528",
   "metadata": {},
   "outputs": [],
   "source": []
  }
 ],
 "metadata": {
  "kernelspec": {
   "display_name": "Python 3 (ipykernel)",
   "language": "python",
   "name": "python3"
  },
  "language_info": {
   "codemirror_mode": {
    "name": "ipython",
    "version": 3
   },
   "file_extension": ".py",
   "mimetype": "text/x-python",
   "name": "python",
   "nbconvert_exporter": "python",
   "pygments_lexer": "ipython3",
   "version": "3.12.10"
  }
 },
 "nbformat": 4,
 "nbformat_minor": 5
}
